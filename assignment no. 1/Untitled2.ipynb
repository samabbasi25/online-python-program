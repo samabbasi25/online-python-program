{
 "cells": [
  {
   "cell_type": "code",
   "execution_count": null,
   "id": "6af8a643",
   "metadata": {},
   "outputs": [],
   "source": [
    "Total_marks = 300;\n",
    "print(\"Total marks =\" , Total_marks);\n",
    "English = 70;\n",
    "print(\"Marks in English = \", English)\n",
    "Islamiat = 50;\n",
    "print(\"Marks in Islamiat = \", Islamiat)\n",
    "Mathematics = 90;\n",
    "print(\"Marks in Mathematics = \" , Mathematics)\n",
    "obtained_marks =(English + Islamiat + Mathematics);\n",
    "print(\"Marks Obtained = \", obtained_marks)\n",
    "x = (obtained_marks)* 100 / 300;\n",
    "print(\"your marks in percentage is \" , x , \"%\")\n",
    "\n",
    "if x < 100 and x > 80:\n",
    "    print(\"Your Grade is A+\");\n",
    "elif x < 80 and x > 70:\n",
    "    print(\"Your Grade is A\");\n",
    "elif x < 80 and x > 60:\n",
    "    print(\"Your Grade is B\");\n",
    "else:\n",
    "    print(\"You are fail\")\n"
   ]
  }
 ],
 "metadata": {
  "kernelspec": {
   "display_name": "Python 3",
   "language": "python",
   "name": "python3"
  },
  "language_info": {
   "codemirror_mode": {
    "name": "ipython",
    "version": 3
   },
   "file_extension": ".py",
   "mimetype": "text/x-python",
   "name": "python",
   "nbconvert_exporter": "python",
   "pygments_lexer": "ipython3",
   "version": "3.8.8"
  }
 },
 "nbformat": 4,
 "nbformat_minor": 5
}
