{
 "cells": [
  {
   "cell_type": "code",
   "execution_count": 2,
   "id": "b1bf75e0",
   "metadata": {},
   "outputs": [
    {
     "name": "stdout",
     "output_type": "stream",
     "text": [
      "Enter a Number:  53\n",
      "53 is Odd number\n"
     ]
    }
   ],
   "source": [
    "num = int(input(\"Enter a Number:  \"));\n",
    "if(num%2)==0:\n",
    "    print(\"{0} is Even number\".format(num));\n",
    "else:\n",
    "    print(\"{0} is Odd number\".format(num));"
   ]
  },
  {
   "cell_type": "code",
   "execution_count": null,
   "id": "ea5b2b7a",
   "metadata": {},
   "outputs": [],
   "source": []
  }
 ],
 "metadata": {
  "kernelspec": {
   "display_name": "Python 3",
   "language": "python",
   "name": "python3"
  },
  "language_info": {
   "codemirror_mode": {
    "name": "ipython",
    "version": 3
   },
   "file_extension": ".py",
   "mimetype": "text/x-python",
   "name": "python",
   "nbconvert_exporter": "python",
   "pygments_lexer": "ipython3",
   "version": "3.8.8"
  }
 },
 "nbformat": 4,
 "nbformat_minor": 5
}
