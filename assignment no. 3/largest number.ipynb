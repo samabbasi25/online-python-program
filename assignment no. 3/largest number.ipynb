{
 "cells": [
  {
   "cell_type": "code",
   "execution_count": 2,
   "id": "cff8ecdf",
   "metadata": {},
   "outputs": [
    {
     "name": "stdout",
     "output_type": "stream",
     "text": [
      "largest element from the list:  105\n"
     ]
    }
   ],
   "source": [
    "list1 = [45,70,32,50,56,48,90,23,9,100,105]\n",
    "list1.sort()\n",
    "print(\"largest element from the list: \",list1[-1]);"
   ]
  },
  {
   "cell_type": "code",
   "execution_count": null,
   "id": "67474442",
   "metadata": {},
   "outputs": [],
   "source": []
  }
 ],
 "metadata": {
  "kernelspec": {
   "display_name": "Python 3",
   "language": "python",
   "name": "python3"
  },
  "language_info": {
   "codemirror_mode": {
    "name": "ipython",
    "version": 3
   },
   "file_extension": ".py",
   "mimetype": "text/x-python",
   "name": "python",
   "nbconvert_exporter": "python",
   "pygments_lexer": "ipython3",
   "version": "3.8.8"
  }
 },
 "nbformat": 4,
 "nbformat_minor": 5
}
