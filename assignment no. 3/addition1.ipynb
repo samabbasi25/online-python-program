{
 "cells": [
  {
   "cell_type": "code",
   "execution_count": 2,
   "id": "9b4b09bf",
   "metadata": {},
   "outputs": [
    {
     "name": "stdout",
     "output_type": "stream",
     "text": [
      "Enter first number:  40\n",
      "Enter Second number:  30\n",
      "addition of two numbers:    70\n"
     ]
    }
   ],
   "source": [
    "x=int(input(\"Enter first number:  \"));\n",
    "y=int(input(\"Enter Second number:  \"));\n",
    "add = print(\"addition of two numbers:   \" ,x+y);"
   ]
  },
  {
   "cell_type": "code",
   "execution_count": null,
   "id": "683d9bae",
   "metadata": {},
   "outputs": [],
   "source": []
  }
 ],
 "metadata": {
  "kernelspec": {
   "display_name": "Python 3",
   "language": "python",
   "name": "python3"
  },
  "language_info": {
   "codemirror_mode": {
    "name": "ipython",
    "version": 3
   },
   "file_extension": ".py",
   "mimetype": "text/x-python",
   "name": "python",
   "nbconvert_exporter": "python",
   "pygments_lexer": "ipython3",
   "version": "3.8.8"
  }
 },
 "nbformat": 4,
 "nbformat_minor": 5
}
