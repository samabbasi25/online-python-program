{
 "cells": [
  {
   "cell_type": "code",
   "execution_count": 8,
   "id": "dff14eaf",
   "metadata": {},
   "outputs": [
    {
     "name": "stdout",
     "output_type": "stream",
     "text": [
      "Enter your marks in English:  50\n",
      "Enter your marks in Urdu:  60\n",
      "Enter your marks in Islamiat:  70\n",
      "Enter your marks in Physics:  80\n",
      "Enter your marks in Chemistry:  60\n",
      "Obtained Marks=   320\n",
      "grade B\n"
     ]
    }
   ],
   "source": [
    "total_marks = 500;\n",
    "Eng = int(input(\"Enter your marks in English:  \"));\n",
    "Urdu =  int(input(\"Enter your marks in Urdu:  \"));\n",
    "Isl =  int(input(\"Enter your marks in Islamiat:  \"));\n",
    "Phy =  int(input(\"Enter your marks in Physics:  \"));\n",
    "Chem =  int(input(\"Enter your marks in Chemistry:  \"));\n",
    "x = Eng + Urdu + Isl + Phy + Chem;\n",
    "obtained_marks=print(\"Obtained Marks=  \", x);\n",
    "if x <= 500 and x>=400:\n",
    "    print(\"grade A\");\n",
    "elif x <= 400 and x >= 300:\n",
    "    print(\"grade B\");\n",
    "elif x <= 300 and x >= 200:\n",
    "    print(\"grade C\");\n",
    "elif x <= 200 and x >= 150:\n",
    "    print(\"grade D\");\n",
    "else:\n",
    "    print(\"you are fail\");\n"
   ]
  },
  {
   "cell_type": "code",
   "execution_count": null,
   "id": "0d8c749e",
   "metadata": {},
   "outputs": [],
   "source": []
  }
 ],
 "metadata": {
  "kernelspec": {
   "display_name": "Python 3",
   "language": "python",
   "name": "python3"
  },
  "language_info": {
   "codemirror_mode": {
    "name": "ipython",
    "version": 3
   },
   "file_extension": ".py",
   "mimetype": "text/x-python",
   "name": "python",
   "nbconvert_exporter": "python",
   "pygments_lexer": "ipython3",
   "version": "3.8.8"
  }
 },
 "nbformat": 4,
 "nbformat_minor": 5
}
