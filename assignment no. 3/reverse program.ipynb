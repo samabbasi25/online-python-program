{
 "cells": [
  {
   "cell_type": "code",
   "execution_count": 22,
   "id": "fb7f0b3f",
   "metadata": {},
   "outputs": [
    {
     "name": "stdout",
     "output_type": "stream",
     "text": [
      "Enter your First Name:  samreena\n",
      "Enter your last Name:   abbasi\n",
      "isabba aneermas\n"
     ]
    }
   ],
   "source": [
    "first_name =str(input(\"Enter your First Name:  \"));\n",
    "last_name =str(input(\"Enter your last Name:   \"));\n",
    "print(last_name[::-1] + \" \" + first_name[::-1]);\n"
   ]
  },
  {
   "cell_type": "code",
   "execution_count": null,
   "id": "b724dc01",
   "metadata": {},
   "outputs": [],
   "source": []
  },
  {
   "cell_type": "code",
   "execution_count": null,
   "id": "d87b4f72",
   "metadata": {},
   "outputs": [],
   "source": []
  }
 ],
 "metadata": {
  "kernelspec": {
   "display_name": "Python 3",
   "language": "python",
   "name": "python3"
  },
  "language_info": {
   "codemirror_mode": {
    "name": "ipython",
    "version": 3
   },
   "file_extension": ".py",
   "mimetype": "text/x-python",
   "name": "python",
   "nbconvert_exporter": "python",
   "pygments_lexer": "ipython3",
   "version": "3.8.8"
  }
 },
 "nbformat": 4,
 "nbformat_minor": 5
}
